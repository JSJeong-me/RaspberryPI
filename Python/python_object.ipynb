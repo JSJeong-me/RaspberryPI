{
  "nbformat": 4,
  "nbformat_minor": 0,
  "metadata": {
    "colab": {
      "name": "Untitled25.ipynb",
      "provenance": []
    },
    "kernelspec": {
      "name": "python3",
      "display_name": "Python 3"
    },
    "language_info": {
      "name": "python"
    }
  },
  "cells": [
    {
      "cell_type": "markdown",
      "source": [
        "### Python Classes/Objects\n",
        "Python is an object oriented programming language.\n",
        "\n",
        "Almost everything in Python is an object, with its properties and methods.\n",
        "\n",
        "A Class is like an object constructor, or a \"blueprint\" for creating objects."
      ],
      "metadata": {
        "id": "6dWD56DKTxe7"
      }
    },
    {
      "cell_type": "markdown",
      "source": [
        ""
      ],
      "metadata": {
        "id": "wMJ4X7ynT7Cj"
      }
    },
    {
      "cell_type": "markdown",
      "source": [
        "Create a Class\n",
        "To create a class, use the keyword class:\n"
      ],
      "metadata": {
        "id": "YHr9FBetT3s8"
      }
    },
    {
      "cell_type": "code",
      "execution_count": null,
      "metadata": {
        "id": "Twi9eWjQTw1t"
      },
      "outputs": [],
      "source": [
        "class MyClass:\n",
        "  x = 5"
      ]
    },
    {
      "cell_type": "markdown",
      "source": [
        "### Create Object\n",
        "Now we can use the class named MyClass to create objects:"
      ],
      "metadata": {
        "id": "4Awm23InUG4q"
      }
    },
    {
      "cell_type": "code",
      "source": [
        " p1 = MyClass()"
      ],
      "metadata": {
        "id": "tWPkXnCpUGYR"
      },
      "execution_count": null,
      "outputs": []
    },
    {
      "cell_type": "code",
      "source": [
        "p1.x"
      ],
      "metadata": {
        "id": "X_cnY8yAUOrU"
      },
      "execution_count": null,
      "outputs": []
    },
    {
      "cell_type": "markdown",
      "source": [
        "### The __init__() Function\n",
        "The examples above are classes and objects in their simplest form, and are not really useful in real life applications.\n",
        "\n",
        "To understand the meaning of classes we have to understand the built-in __init__() function.\n",
        "\n",
        "All classes have a function called __init__(), which is always executed when the class is being initiated.\n",
        "\n",
        "Use the __init__() function to assign values to object properties, or other operations that are necessary to do when the object is being created:"
      ],
      "metadata": {
        "id": "lJ3fqLm5UaBD"
      }
    },
    {
      "cell_type": "markdown",
      "source": [
        ""
      ],
      "metadata": {
        "id": "56-7kUz6Unw7"
      }
    },
    {
      "cell_type": "markdown",
      "source": [
        "### Create a class named Person, use the __init__() function to assign values for name and age:"
      ],
      "metadata": {
        "id": "ShmyOJEHUoE7"
      }
    },
    {
      "cell_type": "code",
      "source": [
        "class Person:\n",
        "  def __init__(self, name, age):\n",
        "    self.name = name\n",
        "    self.age = age"
      ],
      "metadata": {
        "id": "dS-kFiIAUQdz"
      },
      "execution_count": null,
      "outputs": []
    },
    {
      "cell_type": "code",
      "source": [
        "p1 = Person(\"John\", 36)"
      ],
      "metadata": {
        "id": "jT1tC_8OU3R7"
      },
      "execution_count": null,
      "outputs": []
    },
    {
      "cell_type": "code",
      "source": [
        "p1.name"
      ],
      "metadata": {
        "id": "MWTIYYYtU5OD"
      },
      "execution_count": null,
      "outputs": []
    },
    {
      "cell_type": "code",
      "source": [
        "p1.age"
      ],
      "metadata": {
        "id": "1yrp3ZtFU6q7"
      },
      "execution_count": null,
      "outputs": []
    },
    {
      "cell_type": "markdown",
      "source": [
        "### Note: The __init__() function is called automatically every time the class is being used to create a new object."
      ],
      "metadata": {
        "id": "76QsvczaVF1T"
      }
    },
    {
      "cell_type": "code",
      "source": [
        ""
      ],
      "metadata": {
        "id": "v5Ga6Ds6U8Ak"
      },
      "execution_count": null,
      "outputs": []
    },
    {
      "cell_type": "markdown",
      "source": [
        "### Object Methods\n",
        "Objects can also contain methods. Methods in objects are functions that belong to the object.\n",
        "\n",
        "Let us create a method in the Person class:"
      ],
      "metadata": {
        "id": "ELDiy7uKVUUB"
      }
    },
    {
      "cell_type": "code",
      "source": [
        "class Person:\n",
        "  def __init__(self, name, age):\n",
        "    self.name = name\n",
        "    self.age = age\n",
        "\n",
        "  def myfunc(self):\n",
        "    print(\"Hello my name is \" + self.name)\n",
        "\n"
      ],
      "metadata": {
        "id": "mSGHO2zSVgHa"
      },
      "execution_count": null,
      "outputs": []
    },
    {
      "cell_type": "code",
      "source": [
        "p1 = Person(\"John\", 36)\n",
        "p1.myfunc()"
      ],
      "metadata": {
        "id": "cBXCH1ImVkqS"
      },
      "execution_count": null,
      "outputs": []
    },
    {
      "cell_type": "markdown",
      "source": [
        "### Note: The self parameter is a reference to the current instance of the class, and is used to access variables that belong to the class."
      ],
      "metadata": {
        "id": "JeMp2lRsVsKa"
      }
    },
    {
      "cell_type": "code",
      "source": [
        ""
      ],
      "metadata": {
        "id": "LEcHmfMBVttj"
      },
      "execution_count": null,
      "outputs": []
    },
    {
      "cell_type": "markdown",
      "source": [
        "### The self Parameter\n",
        "The self parameter is a reference to the current instance of the class, and is used to access variables that belongs to the class.\n",
        "\n",
        "It does not have to be named self , you can call it whatever you like, but it has to be the first parameter of any function in the class:"
      ],
      "metadata": {
        "id": "VIc3HEB5WBnM"
      }
    },
    {
      "cell_type": "code",
      "source": [
        "class Person:\n",
        "  def __init__(mysillyobject, name, age):\n",
        "    mysillyobject.name = name\n",
        "    mysillyobject.age = age\n",
        "\n",
        "  def myfunc(abc):\n",
        "    print(\"Hello my name is \" + abc.name)\n",
        "\n",
        "p1 = Person(\"John\", 36)\n",
        "p1.myfunc()"
      ],
      "metadata": {
        "id": "qee7Lq7KWDnT"
      },
      "execution_count": null,
      "outputs": []
    }
  ]
}