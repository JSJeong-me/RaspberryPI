{
  "nbformat": 4,
  "nbformat_minor": 0,
  "metadata": {
    "colab": {
      "name": "Untitled50.ipynb",
      "provenance": []
    },
    "kernelspec": {
      "name": "python3",
      "display_name": "Python 3"
    },
    "language_info": {
      "name": "python"
    }
  },
  "cells": [
    {
      "cell_type": "code",
      "execution_count": null,
      "metadata": {
        "id": "VHefeSGxbIrG"
      },
      "outputs": [],
      "source": [
        "import pandas as pd\n",
        "import numpy as np"
      ]
    },
    {
      "cell_type": "code",
      "source": [
        "scores = [[11, 12, 13], [21, 22, 23], [31, 32, 33]]"
      ],
      "metadata": {
        "id": "sTuEBq5RbO-I"
      },
      "execution_count": null,
      "outputs": []
    },
    {
      "cell_type": "code",
      "source": [
        "arr_scores = np.array(scores)"
      ],
      "metadata": {
        "id": "kuTw2X8xbfUY"
      },
      "execution_count": null,
      "outputs": []
    },
    {
      "cell_type": "code",
      "source": [
        "arr_scores"
      ],
      "metadata": {
        "id": "5Kz0j5zpcHJW"
      },
      "execution_count": null,
      "outputs": []
    },
    {
      "cell_type": "code",
      "source": [
        "df_scores = pd.DataFrame(scores, index=['국어', '수학', '영어'], columns=['A반', 'B반', 'C반'])"
      ],
      "metadata": {
        "id": "qDk5-yBnbmnQ"
      },
      "execution_count": null,
      "outputs": []
    },
    {
      "cell_type": "code",
      "source": [
        "df_scores"
      ],
      "metadata": {
        "id": "lVzeuOmVcDYL"
      },
      "execution_count": null,
      "outputs": []
    },
    {
      "cell_type": "code",
      "source": [
        "df_arr_scores = pd.DataFrame(arr_scores, index=['국어', '수학', '영어'], columns=['A반', 'B반', 'C반'])"
      ],
      "metadata": {
        "id": "zQnhD2o8cFNQ"
      },
      "execution_count": null,
      "outputs": []
    },
    {
      "cell_type": "code",
      "source": [
        "df_arr_scores"
      ],
      "metadata": {
        "id": "LEZcSiJHcPyQ"
      },
      "execution_count": null,
      "outputs": []
    },
    {
      "cell_type": "code",
      "source": [
        "arr_back_scores = df_arr_scores.values"
      ],
      "metadata": {
        "id": "7yd0v5htcTZJ"
      },
      "execution_count": null,
      "outputs": []
    },
    {
      "cell_type": "code",
      "source": [
        "arr_back_scores"
      ],
      "metadata": {
        "id": "L-6_uLUTcdwa"
      },
      "execution_count": null,
      "outputs": []
    },
    {
      "cell_type": "code",
      "source": [
        "list_back_scores = arr_back_scores.tolist()"
      ],
      "metadata": {
        "id": "MdcNy5xtcfTd"
      },
      "execution_count": null,
      "outputs": []
    },
    {
      "cell_type": "code",
      "source": [
        "list_back_scores"
      ],
      "metadata": {
        "id": "78jB0ZSVckvQ"
      },
      "execution_count": null,
      "outputs": []
    },
    {
      "cell_type": "code",
      "source": [
        "list_back_scores = list(df_arr_scores)"
      ],
      "metadata": {
        "id": "RkyCW7Ccco7V"
      },
      "execution_count": null,
      "outputs": []
    },
    {
      "cell_type": "code",
      "source": [
        "list_back_scores"
      ],
      "metadata": {
        "id": "dwVpgwbjct4I"
      },
      "execution_count": null,
      "outputs": []
    }
  ]
}