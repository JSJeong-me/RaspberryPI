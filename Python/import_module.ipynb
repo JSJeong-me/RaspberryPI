{
  "nbformat": 4,
  "nbformat_minor": 0,
  "metadata": {
    "colab": {
      "name": "module.ipynb",
      "provenance": []
    },
    "kernelspec": {
      "name": "python3",
      "display_name": "Python 3"
    },
    "language_info": {
      "name": "python"
    }
  },
  "cells": [
    {
      "cell_type": "markdown",
      "source": [
        "What is a Module?\n",
        "Consider a module to be the same as a code library.\n",
        "\n",
        "A file containing a set of functions you want to include in your application."
      ],
      "metadata": {
        "id": "pFv8bN0tV5HE"
      }
    },
    {
      "cell_type": "markdown",
      "source": [
        "Create a Module\n",
        "To create a module just save the code you want in a file with the file extension .py:"
      ],
      "metadata": {
        "id": "bStca9il-rrW"
      }
    },
    {
      "cell_type": "markdown",
      "source": [
        "Save this code in a file named mymodule.py"
      ],
      "metadata": {
        "id": "voCY4YLF-xzA"
      }
    },
    {
      "cell_type": "code",
      "source": [
        "def greeting(name):\n",
        "  print(\"Hello, \" + name)"
      ],
      "metadata": {
        "id": "YnPswwlt-tux"
      },
      "execution_count": null,
      "outputs": []
    },
    {
      "cell_type": "markdown",
      "source": [
        "Use a Module\n",
        "Now we can use the module we just created, by using the import statement:"
      ],
      "metadata": {
        "id": "92yE3r1iV-1V"
      }
    },
    {
      "cell_type": "code",
      "source": [
        "import mymodule\n",
        "\n",
        "mymodule.greeting(\"Jonathan\")"
      ],
      "metadata": {
        "id": "7HgjKFDAV_3s"
      },
      "execution_count": null,
      "outputs": []
    },
    {
      "cell_type": "markdown",
      "source": [
        "Use a Module\n",
        "Now we can use the module we just created, by using the import statement:"
      ],
      "metadata": {
        "id": "flPylFpsY5KB"
      }
    },
    {
      "cell_type": "code",
      "source": [
        "import mymodule"
      ],
      "metadata": {
        "id": "yP0oRyx88n5z"
      },
      "execution_count": null,
      "outputs": []
    },
    {
      "cell_type": "code",
      "source": [
        "mymodule.greeting(\"Jonathan\")"
      ],
      "metadata": {
        "id": "Hc7nKvsVYzpI"
      },
      "execution_count": null,
      "outputs": []
    },
    {
      "cell_type": "markdown",
      "source": [
        "Variables in Module\n",
        "The module can contain functions, as already described, but also variables of all types (arrays, dictionaries, objects etc):"
      ],
      "metadata": {
        "id": "RrsfPxYmZHUE"
      }
    },
    {
      "cell_type": "markdown",
      "source": [
        "Save this code in the file mymodule.py"
      ],
      "metadata": {
        "id": "0czfiSfX_csk"
      }
    },
    {
      "cell_type": "code",
      "source": [
        "person1 = {\n",
        "  \"name\": \"John\",\n",
        "  \"age\": 36,\n",
        "  \"country\": \"Norway\"\n",
        "}"
      ],
      "metadata": {
        "id": "O5Ycb0hd_aVl"
      },
      "execution_count": null,
      "outputs": []
    },
    {
      "cell_type": "code",
      "source": [
        ""
      ],
      "metadata": {
        "id": "7ScENCcv_kKk"
      },
      "execution_count": null,
      "outputs": []
    },
    {
      "cell_type": "markdown",
      "source": [
        "Import the module named mymodule, and access the person1 dictionary:"
      ],
      "metadata": {
        "id": "fn8h-x_XZP7L"
      }
    },
    {
      "cell_type": "code",
      "source": [
        "a = mymodule.person1[\"age\"]\n",
        "b = mymodule.person1[\"country\"]\n",
        "print(b)"
      ],
      "metadata": {
        "id": "LWLmlxXnZKpe"
      },
      "execution_count": null,
      "outputs": []
    },
    {
      "cell_type": "code",
      "source": [
        ""
      ],
      "metadata": {
        "id": "ywVuh4v29R_l"
      },
      "execution_count": null,
      "outputs": []
    },
    {
      "cell_type": "markdown",
      "source": [
        "Re-naming a Module\n",
        "You can create an alias when you import a module, by using the as keyword:"
      ],
      "metadata": {
        "id": "YT7vQXlJZSu4"
      }
    },
    {
      "cell_type": "markdown",
      "source": [
        "Create an alias for mymodule called mx:"
      ],
      "metadata": {
        "id": "1pH9wSicZZoN"
      }
    },
    {
      "cell_type": "code",
      "source": [
        "import mymodule as mx\n",
        "\n",
        "a = mx.person1[\"age\"]\n",
        "print(a)"
      ],
      "metadata": {
        "id": "uHt6zBMbZah3"
      },
      "execution_count": null,
      "outputs": []
    },
    {
      "cell_type": "markdown",
      "source": [
        "Naming a Module\n",
        "You can name the module file whatever you like, but it must have the file extension .py\n",
        "\n",
        "Re-naming a Module\n",
        "You can create an alias when you import a module, by using the as keyword:"
      ],
      "metadata": {
        "id": "zTNbrDBW_sxO"
      }
    },
    {
      "cell_type": "markdown",
      "source": [
        "Create an alias for mymodule called mx:"
      ],
      "metadata": {
        "id": "cf_kxEeJ_z_L"
      }
    },
    {
      "cell_type": "code",
      "source": [
        "import mymodule as mx\n",
        "\n",
        "a = mx.person1[\"age\"]\n",
        "print(a)"
      ],
      "metadata": {
        "id": "8pUPTg4g_0-n"
      },
      "execution_count": null,
      "outputs": []
    },
    {
      "cell_type": "markdown",
      "source": [
        "Built-in Modules\n",
        "There are several built-in modules in Python, which you can import whenever you like."
      ],
      "metadata": {
        "id": "PmRCONKSZecR"
      }
    },
    {
      "cell_type": "markdown",
      "source": [
        ""
      ],
      "metadata": {
        "id": "UgN2Azo6_3oB"
      }
    },
    {
      "cell_type": "markdown",
      "source": [
        "Import and use the platform module:"
      ],
      "metadata": {
        "id": "9HilrxsFZkYp"
      }
    },
    {
      "cell_type": "code",
      "source": [
        "import platform\n",
        "\n",
        "x = platform.system()\n",
        "print(x)"
      ],
      "metadata": {
        "id": "NPKVd50zZiOX"
      },
      "execution_count": null,
      "outputs": []
    },
    {
      "cell_type": "markdown",
      "source": [
        "Import From Module\n",
        "You can choose to import only parts from a module, by using the from keyword."
      ],
      "metadata": {
        "id": "bP9U9JJRZxT9"
      }
    },
    {
      "cell_type": "markdown",
      "source": [
        "The module named mymodule has one function and one dictionary:"
      ],
      "metadata": {
        "id": "JHle0ipBZ0OH"
      }
    },
    {
      "cell_type": "code",
      "source": [
        "def greeting(name):\n",
        "  print(\"Hello, \" + name)\n",
        "\n",
        "person1 = {\n",
        "  \"name\": \"John\",\n",
        "  \"age\": 36,\n",
        "  \"country\": \"Norway\"\n",
        "}"
      ],
      "metadata": {
        "id": "SlhApj6MZ3hN"
      },
      "execution_count": null,
      "outputs": []
    },
    {
      "cell_type": "markdown",
      "source": [
        "Import only the person1 dictionary from the module:"
      ],
      "metadata": {
        "id": "2pzeAzcdZ6rc"
      }
    },
    {
      "cell_type": "code",
      "source": [
        "from mymodule import person1\n",
        "\n",
        "print (person1[\"age\"])"
      ],
      "metadata": {
        "id": "a_7WtGNUZ7vV"
      },
      "execution_count": null,
      "outputs": []
    },
    {
      "cell_type": "code",
      "source": [
        "from mymodule import *\n",
        "\n",
        "print (person1[\"age\"])"
      ],
      "metadata": {
        "id": "7vw3L5sp9eiN"
      },
      "execution_count": null,
      "outputs": []
    },
    {
      "cell_type": "markdown",
      "source": [
        "Using the dir() Function\n",
        "There is a built-in function to list all the function names (or variable names) in a module. The dir() function:"
      ],
      "metadata": {
        "id": "ZoD8XiGWADXQ"
      }
    },
    {
      "cell_type": "markdown",
      "source": [
        "List all the defined names belonging to the platform module:"
      ],
      "metadata": {
        "id": "UixhFbXfAFFX"
      }
    },
    {
      "cell_type": "code",
      "source": [
        "import platform\n",
        "\n",
        "x = dir(platform)\n",
        "print(x)"
      ],
      "metadata": {
        "id": "Cy_U83tIABd8"
      },
      "execution_count": null,
      "outputs": []
    },
    {
      "cell_type": "code",
      "source": [
        "platform.uname()"
      ],
      "metadata": {
        "id": "vxIT0iPJAR9I"
      },
      "execution_count": null,
      "outputs": []
    },
    {
      "cell_type": "code",
      "source": [
        "platform.version()"
      ],
      "metadata": {
        "id": "cyLBQZeqAUWK"
      },
      "execution_count": null,
      "outputs": []
    },
    {
      "cell_type": "code",
      "source": [
        "platform.__version__"
      ],
      "metadata": {
        "id": "Jv1LCLi0AjoZ"
      },
      "execution_count": null,
      "outputs": []
    },
    {
      "cell_type": "code",
      "source": [
        ""
      ],
      "metadata": {
        "id": "M9lS39vrAuAx"
      },
      "execution_count": null,
      "outputs": []
    }
  ]
}