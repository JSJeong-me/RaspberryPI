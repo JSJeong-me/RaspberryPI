{
  "nbformat": 4,
  "nbformat_minor": 0,
  "metadata": {
    "colab": {
      "name": "Untitled46.ipynb",
      "provenance": []
    },
    "kernelspec": {
      "name": "python3",
      "display_name": "Python 3"
    },
    "language_info": {
      "name": "python"
    }
  },
  "cells": [
    {
      "cell_type": "markdown",
      "source": [
        "Arrays are used to store multiple values in one single variable:"
      ],
      "metadata": {
        "id": "yI3-S11jdse0"
      }
    },
    {
      "cell_type": "markdown",
      "source": [
        "Create an array containing car names:"
      ],
      "metadata": {
        "id": "nMQIAOZzdwJw"
      }
    },
    {
      "cell_type": "code",
      "execution_count": null,
      "metadata": {
        "id": "wu3_GCXgdrzX"
      },
      "outputs": [],
      "source": [
        "cars = [\"Ford\", \"Volvo\", \"BMW\"]"
      ]
    },
    {
      "cell_type": "markdown",
      "source": [
        "What is an Array?\n",
        "An array is a special variable, which can hold more than one value at a time.\n",
        "\n",
        "If you have a list of items (a list of car names, for example), storing the cars in single variables could look like this:"
      ],
      "metadata": {
        "id": "om7-NNWGd1o6"
      }
    },
    {
      "cell_type": "markdown",
      "source": [
        "An array can hold many values under a single name, and you can access the values by referring to an index number."
      ],
      "metadata": {
        "id": "nL45aNu5d_7n"
      }
    },
    {
      "cell_type": "markdown",
      "source": [
        "Access the Elements of an Array\n",
        "You refer to an array element by referring to the index number."
      ],
      "metadata": {
        "id": "v4WDcgNceCgF"
      }
    },
    {
      "cell_type": "markdown",
      "source": [
        "Get the value of the first array item:"
      ],
      "metadata": {
        "id": "NUVvPf7WeFcL"
      }
    },
    {
      "cell_type": "code",
      "source": [
        "x = cars[0]"
      ],
      "metadata": {
        "id": "_tMoTKIleGz-"
      },
      "execution_count": null,
      "outputs": []
    },
    {
      "cell_type": "markdown",
      "source": [
        "Modify the value of the first array item:"
      ],
      "metadata": {
        "id": "S4TivQzveLRR"
      }
    },
    {
      "cell_type": "code",
      "source": [
        "cars[0] = \"Toyota\""
      ],
      "metadata": {
        "id": "t5bDLMhJeNIh"
      },
      "execution_count": null,
      "outputs": []
    },
    {
      "cell_type": "markdown",
      "source": [
        "The Length of an Array\n",
        "Use the len() method to return the length of an array (the number of elements in an array)."
      ],
      "metadata": {
        "id": "2DlIysKHeRkR"
      }
    },
    {
      "cell_type": "markdown",
      "source": [
        "Return the number of elements in the cars array:"
      ],
      "metadata": {
        "id": "2kJeTP6LeV71"
      }
    },
    {
      "cell_type": "code",
      "source": [
        "x = len(cars)"
      ],
      "metadata": {
        "id": "xxKy-ya0eYia"
      },
      "execution_count": null,
      "outputs": []
    },
    {
      "cell_type": "markdown",
      "source": [
        "Looping Array Elements\n",
        "You can use the for in loop to loop through all the elements of an array."
      ],
      "metadata": {
        "id": "_98A4uA8ebIa"
      }
    },
    {
      "cell_type": "markdown",
      "source": [
        "Print each item in the cars array:"
      ],
      "metadata": {
        "id": "am3g3pl4efTX"
      }
    },
    {
      "cell_type": "code",
      "source": [
        "for x in cars:\n",
        "  print(x)"
      ],
      "metadata": {
        "id": "uCcl0s0xehuk"
      },
      "execution_count": null,
      "outputs": []
    },
    {
      "cell_type": "markdown",
      "source": [
        "Adding Array Elements\n",
        "You can use the append() method to add an element to an array."
      ],
      "metadata": {
        "id": "BpuIm0Vyeka0"
      }
    },
    {
      "cell_type": "code",
      "source": [
        "cars.append(\"Honda\")"
      ],
      "metadata": {
        "id": "PHpkfKa_em0A"
      },
      "execution_count": null,
      "outputs": []
    },
    {
      "cell_type": "markdown",
      "source": [
        "Removing Array Elements\n",
        "You can use the pop() method to remove an element from the array."
      ],
      "metadata": {
        "id": "gaQQwNa6eqWE"
      }
    },
    {
      "cell_type": "markdown",
      "source": [
        "Delete the second element of the cars array:"
      ],
      "metadata": {
        "id": "qtQlhlrretr-"
      }
    },
    {
      "cell_type": "code",
      "source": [
        "cars.pop(1)"
      ],
      "metadata": {
        "id": "zYcQDkYsere-"
      },
      "execution_count": null,
      "outputs": []
    },
    {
      "cell_type": "markdown",
      "source": [
        "You can also use the remove() method to remove an element from the array."
      ],
      "metadata": {
        "id": "eP37fEZNexct"
      }
    },
    {
      "cell_type": "markdown",
      "source": [
        "Delete the element that has the value \"Volvo\":"
      ],
      "metadata": {
        "id": "ukIZNYvOe0hr"
      }
    },
    {
      "cell_type": "code",
      "source": [
        "cars.remove(\"Honda\")"
      ],
      "metadata": {
        "id": "m-xTL5qEe2wA"
      },
      "execution_count": null,
      "outputs": []
    },
    {
      "cell_type": "markdown",
      "source": [
        "Array Methods\n",
        "Python has a set of built-in methods that you can use on lists/arrays.\n",
        "\n",
        "Method\tDescription\n",
        "append()\tAdds an element at the end of the list\n",
        "clear()\tRemoves all the elements from the list\n",
        "copy()\tReturns a copy of the list\n",
        "count()\tReturns the number of elements with the specified value\n",
        "extend()\tAdd the elements of a list (or any iterable), to the end of the current list\n",
        "index()\tReturns the index of the first element with the specified value\n",
        "insert()\tAdds an element at the specified position\n",
        "pop()\tRemoves the element at the specified position\n",
        "remove()\tRemoves the first item with the specified value\n",
        "reverse()\tReverses the order of the list\n",
        "sort()\tSorts the list"
      ],
      "metadata": {
        "id": "YWy4G0Oae3se"
      }
    }
  ]
}